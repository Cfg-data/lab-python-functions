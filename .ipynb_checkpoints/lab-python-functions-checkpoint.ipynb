{
 "cells": [
  {
   "cell_type": "markdown",
   "id": "25d7736c-ba17-4aff-b6bb-66eba20fbf4e",
   "metadata": {},
   "source": [
    "# Lab | Functions"
   ]
  },
  {
   "cell_type": "markdown",
   "id": "0c581062-8967-4d93-b06e-62833222f930",
   "metadata": {
    "tags": []
   },
   "source": [
    "## Exercise: Managing Customer Orders with Functions\n",
    "\n",
    "In the previous exercise, you improved the code for managing customer orders by using loops and flow control. Now, let's take it a step further and refactor the code by introducing functions.\n",
    "\n",
    "Follow the steps below to complete the exercise:\n",
    "\n",
    "1. Define a function named `initialize_inventory` that takes `products` as a parameter. Inside the function, implement the code for initializing the inventory dictionary using a loop and user input.\n",
    "\n",
    "2. Define a function named `get_customer_orders` that takes no parameters. Inside the function, implement the code for prompting the user to enter the product names using a loop. The function should return the `customer_orders` set.\n",
    "\n",
    "3. Define a function named `update_inventory` that takes `customer_orders` and `inventory` as parameters. Inside the function, implement the code for updating the inventory dictionary based on the customer orders.\n",
    "\n",
    "4. Define a function named `calculate_order_statistics` that takes `customer_orders` and `products` as parameters. Inside the function, implement the code for calculating the order statistics (total products ordered, and percentage of unique products ordered). The function should return these values.\n",
    "\n",
    "5. Define a function named `print_order_statistics` that takes `order_statistics` as a parameter. Inside the function, implement the code for printing the order statistics.\n",
    "\n",
    "6. Define a function named `print_updated_inventory` that takes `inventory` as a parameter. Inside the function, implement the code for printing the updated inventory.\n",
    "\n",
    "7. Call the functions in the appropriate sequence to execute the program and manage customer orders.\n",
    "\n",
    "Hints for functions:\n",
    "\n",
    "- Consider the input parameters required for each function and their return values.\n",
    "- Utilize function parameters and return values to transfer data between functions.\n",
    "- Test your functions individually to ensure they work correctly.\n",
    "\n",
    "\n"
   ]
  },
  {
   "cell_type": "code",
   "execution_count": 7,
   "id": "8e72919c-b214-45ec-9e61-2bce189d8fb2",
   "metadata": {},
   "outputs": [
    {
     "name": "stdin",
     "output_type": "stream",
     "text": [
      "Enter the quantity for t-shirt:  92\n",
      "Enter the quantity for mug:  15\n",
      "Enter the quantity for hat:  96\n",
      "Enter the quantity for book:  85\n",
      "Enter the quantity for keychain:  186\n"
     ]
    },
    {
     "name": "stdout",
     "output_type": "stream",
     "text": [
      "Inventory: {'t-shirt': 92, 'mug': 15, 'hat': 96, 'book': 85, 'keychain': 186}\n"
     ]
    },
    {
     "name": "stdin",
     "output_type": "stream",
     "text": [
      "Enter the name of a product you want to order (t-shirt, mug, hat, book, keychain):  mug\n",
      "Enter the quantity for mug:  9\n"
     ]
    },
    {
     "name": "stdout",
     "output_type": "stream",
     "text": [
      "9 of mug has been added to your orders.\n"
     ]
    },
    {
     "name": "stdin",
     "output_type": "stream",
     "text": [
      "Do you want to add another product? (yes/no):  hat\n"
     ]
    },
    {
     "name": "stdout",
     "output_type": "stream",
     "text": [
      "Your final orders are: {'mug': 9}\n",
      "Remaining inventory: {'t-shirt': 92, 'mug': -3, 'hat': 96, 'book': 85, 'keychain': 186}\n",
      "Updated Inventory:\n",
      "t-shirt: 92\n",
      "mug: -3\n",
      "hat: 96\n",
      "book: 85\n",
      "keychain: 186\n",
      "Total products ordered: 9\n",
      "Percentage of unique products ordered: 20.00%\n",
      "Order statistics in list format: [9, 20.0]\n"
     ]
    }
   ],
   "source": [
    "# Initialize the dictionary for customer orders\n",
    "customer_orders = {}\n",
    "\n",
    "# List of available products\n",
    "products = [\"t-shirt\", \"mug\", \"hat\", \"book\", \"keychain\"]\n",
    "\n",
    "def initialize_inventory(products):\n",
    "    # Initialize inventory as an empty dictionary\n",
    "    inventory = {}\n",
    "    # Input quantities for inventory\n",
    "    for product in products:\n",
    "        quantity = int(input(f\"Enter the quantity for {product}: \"))\n",
    "        inventory[product] = quantity  # Set the quantity for each product\n",
    "    return inventory\n",
    "\n",
    "def get_customer_orders():\n",
    "    # Return the customer orders\n",
    "    return customer_orders\n",
    "\n",
    "def update_inventory(customer_orders, inventory):\n",
    "    # Update the inventory based on customer orders\n",
    "    for product, quantity in customer_orders.items():\n",
    "        if product in inventory:\n",
    "            inventory[product] -= quantity  # Subtract the ordered quantity from inventory\n",
    "\n",
    "def calculate_order_statistics(customer_orders, products):\n",
    "    # Calculate total products ordered\n",
    "    total_ordered = sum(customer_orders.values())\n",
    "    \n",
    "    # Calculate the number of unique products ordered\n",
    "    unique_products_ordered = len(customer_orders)\n",
    "    \n",
    "    # Calculate the percentage of unique products ordered\n",
    "    percentage_unique = (unique_products_ordered / len(products)) * 100 if products else 0\n",
    "    \n",
    "    return total_ordered, percentage_unique\n",
    "\n",
    "def print_order_statistics(order_statistics):\n",
    "    # Return the order statistics in a list\n",
    "    return list(order_statistics)\n",
    "\n",
    "def print_updated_inventory(inventory):\n",
    "    # Print the updated inventory\n",
    "    print(\"Updated Inventory:\")\n",
    "    for product, quantity in inventory.items():\n",
    "        print(f\"{product}: {quantity}\")\n",
    "\n",
    "# Call the function to initialize inventory\n",
    "inventory = initialize_inventory(products)\n",
    "\n",
    "print(\"Inventory:\", inventory)\n",
    "\n",
    "while True:\n",
    "    # a. Prompt the user to enter the name of a product\n",
    "    product = input(\"Enter the name of a product you want to order (t-shirt, mug, hat, book, keychain): \").strip().lower()\n",
    "    \n",
    "    # Check if the product is valid\n",
    "    if product in products:\n",
    "        # Ask for the quantity of the product\n",
    "        quantity = int(input(f\"Enter the quantity for {product}: \"))\n",
    "        \n",
    "        # Check if there is enough inventory for the order\n",
    "        if quantity <= inventory[product]:\n",
    "            # b. Add the product and quantity to the \"customer_orders\" dictionary\n",
    "            if product in customer_orders:\n",
    "                customer_orders[product] += quantity  # Update quantity if product already exists\n",
    "            else:\n",
    "                customer_orders[product] = quantity  # Add new product with quantity\n",
    "            \n",
    "            # Update the inventory\n",
    "            inventory[product] -= quantity\n",
    "            print(f\"{quantity} of {product} has been added to your orders.\")\n",
    "        else:\n",
    "            print(f\"Sorry, there is not enough inventory for {product}. Available quantity: {inventory[product]}\")\n",
    "    else:\n",
    "        print(\"Invalid product. Please choose from the available products.\")\n",
    "    \n",
    "    # c. Ask the user if they want to add another product\n",
    "    another = input(\"Do you want to add another product? (yes/no): \").strip().lower()\n",
    "    \n",
    "    # d. Continue the loop until the user does not want to add another product\n",
    "    if another != 'yes':\n",
    "        break\n",
    "\n",
    "# Update the inventory based on customer orders\n",
    "update_inventory(customer_orders, inventory)\n",
    "\n",
    "# Display the final orders and remaining inventory\n",
    "print(\"Your final orders are:\", get_customer_orders())\n",
    "print(\"Remaining inventory:\", inventory)\n",
    "\n",
    "# Print the updated inventory\n",
    "print_updated_inventory(inventory)\n",
    "\n",
    "# Calculate and display order statistics\n",
    "total_ordered, percentage_unique = calculate_order_statistics(customer_orders, products)\n",
    "print(f\"Total products ordered: {total_ordered}\")\n",
    "print(f\"Percentage of unique products ordered: {percentage_unique:.2f}%\")\n",
    "\n",
    "# Get order statistics in a list\n",
    "order_statistics_list = print_order_statistics((total_ordered, percentage_unique))\n",
    "print(\"Order statistics in list format:\", order_statistics_list)"
   ]
  },
  {
   "cell_type": "code",
   "execution_count": null,
   "id": "db9c598d-d3f3-444a-853e-aaca39e7f73a",
   "metadata": {},
   "outputs": [],
   "source": []
  }
 ],
 "metadata": {
  "kernelspec": {
   "display_name": "Python 3 (ipykernel)",
   "language": "python",
   "name": "python3"
  },
  "language_info": {
   "codemirror_mode": {
    "name": "ipython",
    "version": 3
   },
   "file_extension": ".py",
   "mimetype": "text/x-python",
   "name": "python",
   "nbconvert_exporter": "python",
   "pygments_lexer": "ipython3",
   "version": "3.12.4"
  }
 },
 "nbformat": 4,
 "nbformat_minor": 5
}
